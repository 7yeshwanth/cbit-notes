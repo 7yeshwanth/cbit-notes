{
 "cells": [
  {
   "cell_type": "markdown",
   "metadata": {},
   "source": [
    "# **CC Internal 1**\n"
   ]
  },
  {
   "cell_type": "markdown",
   "metadata": {},
   "source": [
    "\n",
    "## **SET-1**\n"
   ]
  },
  {
   "cell_type": "markdown",
   "metadata": {},
   "source": [
    "\n",
    "1. *You are given a number* `n`. *Find the total count of set bits for all numbers from* 1 *to* `n` *(both inclusive).*\n"
   ]
  },
  {
   "cell_type": "code",
   "execution_count": 46,
   "metadata": {},
   "outputs": [
    {
     "name": "stdout",
     "output_type": "stream",
     "text": [
      "Total set bits in first 4 numbers is 5\n"
     ]
    }
   ],
   "source": [
    "# method 1\n",
    "n = int(input(\"Enter 'n': \"))\n",
    "c = 0\n",
    "for i in range(1, n+1):\n",
    "  c += bin(i).count('1')\n",
    "print(f\"Total set bits in first {n} numbers is {c}\")"
   ]
  },
  {
   "cell_type": "code",
   "execution_count": 47,
   "metadata": {},
   "outputs": [
    {
     "name": "stdout",
     "output_type": "stream",
     "text": [
      "Total set bits in first 4 numbers is 5\n"
     ]
    }
   ],
   "source": [
    "# method 2\n",
    "n = int(input(\"Enter 'n': \"))\n",
    "c = 0\n",
    "for i in range(1, n+1):\n",
    "  while i > 0:\n",
    "    c += i & 1\n",
    "    i >>= 1\n",
    "print(f\"Total set bits in first {n} numbers is {c}\")"
   ]
  },
  {
   "cell_type": "markdown",
   "metadata": {},
   "source": [
    "\n",
    "2. *Given a number* `n` *and a bit number* `k`, *check if the* `k`th *index bit of* `n` *is set or not. A bit is called set if it is* 1. *The position of the set bit* '1' *should be indexed starting with* 0 *from the LSB side in the binary representation of the number.*  \n",
    "   **Note:** *Index starts from* 0. *You just need to return* `true` *or* `false`; *the driver code will handle printing* \"Yes\" *and* \"No.\"\n",
    "\n",
    "\n"
   ]
  },
  {
   "cell_type": "code",
   "execution_count": 48,
   "metadata": {},
   "outputs": [],
   "source": [
    "def check_kb(n, k):\n",
    "    return (n >> k) & 1 == 1"
   ]
  },
  {
   "cell_type": "code",
   "execution_count": 49,
   "metadata": {},
   "outputs": [
    {
     "name": "stdout",
     "output_type": "stream",
     "text": [
      "Yes\n"
     ]
    }
   ],
   "source": [
    "n = int(input('Enter n: '))\n",
    "k = int(input('Enter k: '))\n",
    "if check_kb(n, k):\n",
    "    print(\"Yes\")\n",
    "else:\n",
    "    print(\"No\")\n"
   ]
  },
  {
   "cell_type": "markdown",
   "metadata": {},
   "source": [
    "\n",
    "## **SET-2**\n"
   ]
  },
  {
   "cell_type": "markdown",
   "metadata": {},
   "source": [
    "\n",
    "*Implement a queue using a linked list with* `enqueue()`, `dequeue()`, *and* `display()` *operations. Demonstrate the operations on a queue by enqueuing* 1, 2, 3, 4, *then dequeuing two elements, and enqueuing* 5.\n",
    "\n",
    "\n"
   ]
  },
  {
   "cell_type": "code",
   "execution_count": 50,
   "metadata": {},
   "outputs": [],
   "source": [
    "class Node:\n",
    "  def __init__(self, data):\n",
    "    self.data = data\n",
    "    self.next = None\n",
    "\n",
    "class Queue:\n",
    "  def __init__(self):\n",
    "    self.front = None\n",
    "    self.rear = None\n",
    "  \n",
    "  def enqueue(self, data):\n",
    "    if self.rear is None:\n",
    "      self.front = self.rear = Node(data)\n",
    "    else:\n",
    "      self.rear.next = Node(data)\n",
    "      self.rear = self.rear.next\n",
    "  \n",
    "  def dequeue(self):\n",
    "    if self.front is None:\n",
    "      return None\n",
    "    temp = self.front\n",
    "    self.front = self.front.next\n",
    "    if self.front is None:\n",
    "      self.rear = None\n",
    "    return temp.data\n",
    "  \n",
    "  def display(self):\n",
    "    if self.front is None:\n",
    "      print(\"Queue is empty\")\n",
    "      return\n",
    "    print(\"Queue is: \", end=\" \")\n",
    "    temp = self.front\n",
    "    while temp:\n",
    "      print(temp.data, end=\" \")\n",
    "      temp = temp.next\n",
    "    print()"
   ]
  },
  {
   "cell_type": "code",
   "execution_count": 51,
   "metadata": {},
   "outputs": [
    {
     "name": "stdout",
     "output_type": "stream",
     "text": [
      "Queue is:  10 20 30 40 \n",
      "Dequeue: 10\n",
      "Queue is:  20 30 40 \n",
      "Dequeue: 20\n",
      "Queue is:  30 40 \n"
     ]
    }
   ],
   "source": [
    "q = Queue()\n",
    "q.enqueue(10)\n",
    "q.enqueue(20)\n",
    "q.enqueue(30)\n",
    "q.enqueue(40)\n",
    "q.display()\n",
    "print(\"Dequeue:\", q.dequeue())\n",
    "q.display()\n",
    "print(\"Dequeue:\", q.dequeue())\n",
    "q.display()"
   ]
  },
  {
   "cell_type": "markdown",
   "metadata": {},
   "source": [
    "\n",
    "## **SET-3**\n"
   ]
  },
  {
   "cell_type": "markdown",
   "metadata": {},
   "source": [
    "\n",
    "*Implement a stack using an array with operations to* `push()`, `pop()`, *and* `display()` *the elements. Modify the stack implementation to check for underflow and overflow conditions. Test it with a stack of size* 4 *and perform* 5 *push operations.*\n"
   ]
  },
  {
   "cell_type": "code",
   "execution_count": 52,
   "metadata": {},
   "outputs": [],
   "source": [
    "class Stack:\n",
    "  def __init__(self):\n",
    "    self.stack = []\n",
    "  \n",
    "  def push(self, data):\n",
    "    self.stack.append(data)\n",
    "  \n",
    "  def pop(self):\n",
    "    if len(self.stack) < 1:\n",
    "      return None\n",
    "    return self.stack.pop()\n",
    "  \n",
    "  def display(self):\n",
    "    if len(self.stack) < 1:\n",
    "      print(\"Stack is empty\")\n",
    "      return\n",
    "    print(\"Stack is: \", self.stack)"
   ]
  },
  {
   "cell_type": "code",
   "execution_count": 53,
   "metadata": {},
   "outputs": [
    {
     "name": "stdout",
     "output_type": "stream",
     "text": [
      "Stack is:  [10, 20, 30, 40]\n",
      "Pop: 40\n",
      "Stack is:  [10, 20, 30]\n",
      "Pop: 30\n",
      "Stack is:  [10, 20]\n"
     ]
    }
   ],
   "source": [
    "s = Stack()\n",
    "s.push(10)\n",
    "s.push(20)\n",
    "s.push(30)\n",
    "s.push(40)\n",
    "s.display()\n",
    "print(\"Pop:\", s.pop())\n",
    "s.display()\n",
    "print(\"Pop:\", s.pop())\n",
    "s.display()"
   ]
  },
  {
   "cell_type": "markdown",
   "metadata": {},
   "source": [
    "\n",
    "\n",
    "\n",
    "## **SET-4**\n"
   ]
  },
  {
   "cell_type": "markdown",
   "metadata": {},
   "source": [
    "\n",
    "*Write a program to implement the insertion operations for a singly linked list. The program should support:*\n",
    "- *Insertion at the beginning.*\n",
    "- *Insertion at the end.*\n",
    "- *Insertion at a specific position in the middle.*\n"
   ]
  },
  {
   "cell_type": "code",
   "execution_count": 54,
   "metadata": {},
   "outputs": [],
   "source": [
    "class Node:\n",
    "  def __init__(self, data):\n",
    "    self.data = data\n",
    "    self.next = None\n",
    "\n",
    "class LinkedList:\n",
    "  def __init__(self):\n",
    "    self.head = None\n",
    "  \n",
    "  def insertAtBegin(self, data):\n",
    "    new_node = Node(data)\n",
    "    new_node.next = self.head\n",
    "    self.head = new_node\n",
    "  \n",
    "  def insertAtEnd(self, data):\n",
    "    new_node = Node(data)\n",
    "    if self.head is None:\n",
    "      self.head = new_node\n",
    "      return\n",
    "    temp = self.head\n",
    "    while temp.next:\n",
    "      temp = temp.next\n",
    "    temp.next = new_node\n",
    "  \n",
    "  def insertAt(self, data, pos):\n",
    "    new_node = Node(data)\n",
    "    if pos == 0:\n",
    "      self.insertAtBegin(data)\n",
    "      return\n",
    "    temp = self.head\n",
    "    for i in range(pos-1):\n",
    "      temp = temp.next\n",
    "      if temp is None:\n",
    "        print(\"Index out of bound\")\n",
    "        return\n",
    "    new_node.next = temp.next\n",
    "    temp.next = new_node\n",
    "    \n",
    "  def display(self):\n",
    "    if self.head is None:\n",
    "      print(\"List is empty\")\n",
    "      return\n",
    "    temp = self.head\n",
    "    while temp:\n",
    "      print(temp.data, end=\" \")\n",
    "      temp = temp.next\n",
    "    print()"
   ]
  },
  {
   "cell_type": "code",
   "execution_count": 55,
   "metadata": {},
   "outputs": [
    {
     "name": "stdout",
     "output_type": "stream",
     "text": [
      "30 20 50 10 40 \n"
     ]
    }
   ],
   "source": [
    "l = LinkedList()\n",
    "l.insertAtBegin(10)\n",
    "l.insertAtBegin(20)\n",
    "l.insertAtBegin(30)\n",
    "l.insertAtEnd(40)\n",
    "l.insertAt(50, 2)\n",
    "l.display()"
   ]
  },
  {
   "cell_type": "markdown",
   "metadata": {},
   "source": [
    "\n",
    "\n",
    "\n",
    "## **SET-5**\n"
   ]
  },
  {
   "cell_type": "markdown",
   "metadata": {},
   "source": [
    "\n",
    "a. *Given an array* `nums` *containing distinct numbers in the range* [0, n], *return the only number in the range that is missing from the array.*\n",
    "\n",
    "   **Input:** `nums = [3, 0, 1]`  \n",
    "   **Output:** `2`  \n",
    "   **Explanation:** *n =* 3 *since there are 3 numbers, so all numbers are in the range* [0, 3]. *2 is the missing number in the range since it does not appear in* `nums`.\n"
   ]
  },
  {
   "cell_type": "code",
   "execution_count": 56,
   "metadata": {},
   "outputs": [],
   "source": [
    "# method 1\n",
    "def missingNo(nums):\n",
    "  n = len(nums)\n",
    "  ns = n * (n + 1) // 2\n",
    "  return ns - sum(nums)"
   ]
  },
  {
   "cell_type": "code",
   "execution_count": 57,
   "metadata": {},
   "outputs": [],
   "source": [
    "# method 2\n",
    "def missingNo(nums):\n",
    "  num = 0\n",
    "  for i in range(len(nums)):\n",
    "    num ^= nums[i]\n",
    "    num ^= i\n",
    "  return num ^ len(nums)\n"
   ]
  },
  {
   "cell_type": "code",
   "execution_count": 58,
   "metadata": {},
   "outputs": [
    {
     "data": {
      "text/plain": [
       "1"
      ]
     },
     "execution_count": 58,
     "metadata": {},
     "output_type": "execute_result"
    }
   ],
   "source": [
    "nums = [0, 2, 3, 4, 5]\n",
    "missingNo(nums)"
   ]
  },
  {
   "cell_type": "markdown",
   "metadata": {},
   "source": [
    "\n",
    "b. *Given a string* `S`, *find the length of the longest substring without repeating characters.*\n",
    "\n",
    "   **Input:** `s = \"abcabcbb\"`  \n",
    "   **Output:** `3`  \n",
    "   **Explanation:** *The answer is* \"abc\", *with the length of* 3.\n",
    "\n"
   ]
  },
  {
   "cell_type": "code",
   "execution_count": 59,
   "metadata": {},
   "outputs": [],
   "source": [
    "def findSub(s):\n",
    "  n = len(s)\n",
    "  m = 0\n",
    "  for i in range(n):\n",
    "    ch = set()\n",
    "    c = 0\n",
    "    for j in range(i, n):\n",
    "      if s[j] in ch:\n",
    "        break\n",
    "      ch.add(s[j])\n",
    "      c += 1\n",
    "    m = max(m, c)\n",
    "  return m\n"
   ]
  },
  {
   "cell_type": "code",
   "execution_count": 60,
   "metadata": {},
   "outputs": [
    {
     "data": {
      "text/plain": [
       "3"
      ]
     },
     "execution_count": 60,
     "metadata": {},
     "output_type": "execute_result"
    }
   ],
   "source": [
    "findSub(\"abcabcbb\")"
   ]
  },
  {
   "cell_type": "markdown",
   "metadata": {},
   "source": [
    "\n",
    "\n",
    "## **SET-6**\n"
   ]
  },
  {
   "cell_type": "markdown",
   "metadata": {},
   "source": [
    "\n",
    "a. *Implement Bubble Sort and sort the array* `[14, 33, 27, 10, 35, 19]`. *Show the array after each pass of the outer loop.*\n"
   ]
  },
  {
   "cell_type": "code",
   "execution_count": 61,
   "metadata": {},
   "outputs": [],
   "source": [
    "def bubbleSort(arr):\n",
    "  n = len(arr)\n",
    "  for i in range(n):\n",
    "    for j in range(n-i-1):\n",
    "      if arr[j] > arr[j+1]:\n",
    "        arr[j], arr[j+1] = arr[j+1], arr[j]\n",
    "    print(f'Step {i+1}: {arr}')"
   ]
  },
  {
   "cell_type": "code",
   "execution_count": 62,
   "metadata": {},
   "outputs": [
    {
     "name": "stdout",
     "output_type": "stream",
     "text": [
      "Step 1: [14, 27, 10, 33, 19, 35]\n",
      "Step 2: [14, 10, 27, 19, 33, 35]\n",
      "Step 3: [10, 14, 19, 27, 33, 35]\n",
      "Step 4: [10, 14, 19, 27, 33, 35]\n",
      "Step 5: [10, 14, 19, 27, 33, 35]\n",
      "Step 6: [10, 14, 19, 27, 33, 35]\n"
     ]
    }
   ],
   "source": [
    "bubbleSort([14, 33, 27, 10, 35, 19])"
   ]
  },
  {
   "cell_type": "markdown",
   "metadata": {},
   "source": [
    "\n",
    "b. *Write a program to implement Insertion Sort. Use the following array:* `[12, 11, 13, 5, 21, 56]`. *Show how the array evolves at each insertion step.*\n",
    "\n"
   ]
  },
  {
   "cell_type": "code",
   "execution_count": 63,
   "metadata": {},
   "outputs": [],
   "source": [
    "def insertion_sort(arr):\n",
    "  for i in range(1, len(arr)):\n",
    "    key = arr[i]\n",
    "    j = i - 1\n",
    "    while j >= 0 and key < arr[j]:\n",
    "      arr[j + 1] = arr[j]\n",
    "      j -= 1\n",
    "    arr[j + 1] = key\n",
    "    print(f'Step {i}: {arr}')\n"
   ]
  },
  {
   "cell_type": "code",
   "execution_count": 64,
   "metadata": {},
   "outputs": [
    {
     "name": "stdout",
     "output_type": "stream",
     "text": [
      "Step 1: [11, 12, 13, 5, 21, 56]\n",
      "Step 2: [11, 12, 13, 5, 21, 56]\n",
      "Step 3: [5, 11, 12, 13, 21, 56]\n",
      "Step 4: [5, 11, 12, 13, 21, 56]\n",
      "Step 5: [5, 11, 12, 13, 21, 56]\n"
     ]
    }
   ],
   "source": [
    "insertion_sort([12, 11, 13, 5, 21, 56])"
   ]
  },
  {
   "cell_type": "markdown",
   "metadata": {},
   "source": [
    "\n",
    "\n",
    "## **SET-7**\n"
   ]
  },
  {
   "cell_type": "markdown",
   "metadata": {},
   "source": [
    "\n",
    "*Write a program to implement Depth-First Search (DFS) for a graph.*\n"
   ]
  },
  {
   "cell_type": "code",
   "execution_count": 65,
   "metadata": {},
   "outputs": [],
   "source": [
    "def dfs(graph, start, visited=None):\n",
    "    if visited is None:\n",
    "        visited = set()\n",
    "    visited.add(start)\n",
    "    print(start, end=\" \")\n",
    "\n",
    "    for neighbor in graph[start]:\n",
    "        if neighbor not in visited:\n",
    "            dfs(graph, neighbor, visited)\n"
   ]
  },
  {
   "cell_type": "code",
   "execution_count": 66,
   "metadata": {},
   "outputs": [],
   "source": [
    "\n",
    "\n",
    "graph = {\n",
    "    'A': ['B', 'C'],\n",
    "    'B': ['D', 'E'],\n",
    "    'C': ['F'],\n",
    "    'D': [],\n",
    "    'E': ['F'],\n",
    "    'F': []\n",
    "}\n"
   ]
  },
  {
   "cell_type": "code",
   "execution_count": 67,
   "metadata": {},
   "outputs": [
    {
     "name": "stdout",
     "output_type": "stream",
     "text": [
      "A B D E F C "
     ]
    }
   ],
   "source": [
    "\n",
    "dfs(graph, 'A')"
   ]
  }
 ],
 "metadata": {
  "kernelspec": {
   "display_name": "Python 3",
   "language": "python",
   "name": "python3"
  },
  "language_info": {
   "codemirror_mode": {
    "name": "ipython",
    "version": 3
   },
   "file_extension": ".py",
   "mimetype": "text/x-python",
   "name": "python",
   "nbconvert_exporter": "python",
   "pygments_lexer": "ipython3",
   "version": "3.12.4"
  }
 },
 "nbformat": 4,
 "nbformat_minor": 2
}
