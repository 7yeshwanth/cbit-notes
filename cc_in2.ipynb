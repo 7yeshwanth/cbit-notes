{
  "nbformat": 4,
  "nbformat_minor": 0,
  "metadata": {
    "colab": {
      "provenance": []
    },
    "kernelspec": {
      "name": "python3",
      "display_name": "Python 3"
    },
    "language_info": {
      "name": "python"
    }
  },
  "cells": [
    {
      "cell_type": "markdown",
      "source": [
        "# ***CC Internal 2***"
      ],
      "metadata": {
        "id": "5VbCA-sfSu13"
      }
    },
    {
      "cell_type": "markdown",
      "source": [
        "## **1. Greedy Algorithms - Knapsack Problem**\n",
        "\n",
        "Problem: Implement the Fractional Knapsack problem using a greedy algorithm.\n",
        "\n",
        "Write a program that:-\n",
        "\n",
        "- Accepts a list of items with weights and values.\n",
        "\n",
        "- Sorts items based on their value-to-weight ratio.\n",
        "\n",
        "- Selects items to maximize value while staying within a given weight capacity.\n"
      ],
      "metadata": {
        "id": "S52qbbmdSuyZ"
      }
    },
    {
      "cell_type": "code",
      "source": [
        "class Item:\n",
        "  def __init__(self, value, weight):\n",
        "    self.value = value\n",
        "    self.weight = weight\n",
        "    self.ratio = value / weight\n",
        "\n",
        "\n",
        "def fractionalKnapsack(capacity, items):\n",
        "  items.sort(key=lambda x: x.ratio, reverse=True)\n",
        "  total = 0\n",
        "  for item in items:\n",
        "    if capacity <= 0:\n",
        "      break\n",
        "    take = min(item.weight, capacity)\n",
        "    total += take * item.ratio\n",
        "    capacity -= take\n",
        "  return total\n",
        "\n",
        "\n",
        "items = [Item(60, 10), Item(100, 20), Item(120, 30)]\n",
        "capacity = 50\n",
        "print(\"Maximum value in knapsack:\", fractionalKnapsack(capacity, items))"
      ],
      "metadata": {
        "colab": {
          "base_uri": "https://localhost:8080/"
        },
        "id": "ZKRy4ISBfym_",
        "outputId": "070faea2-e0ce-4943-a48f-ac0b243f5e38"
      },
      "execution_count": 18,
      "outputs": [
        {
          "output_type": "stream",
          "name": "stdout",
          "text": [
            "Maximum value in knapsack: 240.0\n"
          ]
        }
      ]
    },
    {
      "cell_type": "markdown",
      "source": [
        "## **2. Implement the QuickSort algorithm using divide and conquer.**\n",
        "\n",
        "Write a program that:-\n",
        "\n",
        "- Selects a pivot and partitions the array around it.\n",
        "\n",
        "- Recursively sorts subarrays to achieve a fully sorted array."
      ],
      "metadata": {
        "id": "CyD-Y6YfSuwn"
      }
    },
    {
      "cell_type": "code",
      "source": [
        "def quickSort(arr):\n",
        "  if len(arr) <= 1:\n",
        "    return arr\n",
        "  pivot = arr[0]\n",
        "  left = [x for x in arr[1:] if x <= pivot]\n",
        "  right = [x for x in arr[1:] if x > pivot]\n",
        "  return quickSort(left) + [pivot] + quickSort(right)\n",
        "\n",
        "\n",
        "arr = [10, 7, 8, 9, 1, 5]\n",
        "# arr = list(map(int, input(\"Enter the array: \").split()))\n",
        "print(\"Unsorted array:\", arr)\n",
        "quickSort(arr)\n",
        "print(\"Sorted array:\", arr)"
      ],
      "metadata": {
        "colab": {
          "base_uri": "https://localhost:8080/"
        },
        "id": "dG1zbontfv54",
        "outputId": "757a7aca-ae74-4270-b9df-2f91f389b0f5"
      },
      "execution_count": 19,
      "outputs": [
        {
          "output_type": "stream",
          "name": "stdout",
          "text": [
            "Unsorted array: [10, 7, 8, 9, 1, 5]\n",
            "Sorted array: [10, 7, 8, 9, 1, 5]\n"
          ]
        }
      ]
    },
    {
      "cell_type": "markdown",
      "source": [
        "## **3. Write Implement the Merge Sort algorithm using divide and conquer.**"
      ],
      "metadata": {
        "id": "uYpcYm09SuuW"
      }
    },
    {
      "cell_type": "code",
      "source": [
        "def mergeSort(arr):\n",
        "  if len(arr) <= 1:\n",
        "    return arr\n",
        "  mid = len(arr) // 2\n",
        "  left = mergeSort(arr[:mid])\n",
        "  right = mergeSort(arr[mid:])\n",
        "  a = l = r = 0\n",
        "  while l < len(left) and r < len(right):\n",
        "    if left[l] < right[r]:\n",
        "      arr[a] = left[l]\n",
        "      l += 1\n",
        "    else:\n",
        "      arr[a] = right[r]\n",
        "      r += 1\n",
        "    a += 1\n",
        "  while l < len(left):\n",
        "    arr[a] = left[l]\n",
        "    l += 1\n",
        "    a += 1\n",
        "  while r < len(right):\n",
        "    arr[a] = right[r]\n",
        "    r += 1\n",
        "    a += 1\n",
        "  return arr\n",
        "\n",
        "\n",
        "arr = [3, 2, 1, 5, 4]\n",
        "# arr = list(map(int, input(\"Enter the array: \").split()))\n",
        "print(\"Before sorting:\", arr)\n",
        "mergeSort(arr)\n",
        "print(\"After sorting:\", arr)"
      ],
      "metadata": {
        "colab": {
          "base_uri": "https://localhost:8080/"
        },
        "id": "xeil62j7eveL",
        "outputId": "38f7ad51-7779-496d-c5c5-cfb39a5bb061"
      },
      "execution_count": 20,
      "outputs": [
        {
          "output_type": "stream",
          "name": "stdout",
          "text": [
            "Before sorting: [3, 2, 1, 5, 4]\n",
            "After sorting: [1, 2, 3, 4, 5]\n"
          ]
        }
      ]
    },
    {
      "cell_type": "markdown",
      "source": [
        "## **4. Implement a Min-Heap or Max-Heap structure that supports both insertion and deletion.**"
      ],
      "metadata": {
        "id": "vEjXeDy3SusR"
      }
    },
    {
      "cell_type": "code",
      "source": [
        "class MinHeap:\n",
        "  def __init__(self):\n",
        "    self.heap = []\n",
        "\n",
        "  def insert(self, element):\n",
        "    self.heap.append(element)\n",
        "    self._heapifyUp(len(self.heap) - 1)\n",
        "\n",
        "  def deleteMin(self):\n",
        "    if not self.heap:\n",
        "      return None\n",
        "    if len(self.heap) == 1:\n",
        "      return self.heap.pop()\n",
        "    minElement = self.heap[0]\n",
        "    self.heap[0] = self.heap.pop()\n",
        "    self._heapifyDown(0)\n",
        "    return minElement\n",
        "\n",
        "  def _heapifyUp(self, index):\n",
        "    parent = (index - 1) // 2\n",
        "    if index > 0 and self.heap[index] < self.heap[parent]:\n",
        "      self.heap[index], self.heap[parent] = self.heap[parent], self.heap[index]\n",
        "      self._heapifyUp(parent)\n",
        "\n",
        "  def _heapifyDown(self, index):\n",
        "    smallest = index\n",
        "    left = 2 * index + 1\n",
        "    right = 2 * index + 2\n",
        "    if left < len(self.heap) and self.heap[left] < self.heap[smallest]:\n",
        "      smallest = left\n",
        "    if right < len(self.heap) and self.heap[right] < self.heap[smallest]:\n",
        "      smallest = right\n",
        "    if smallest != index:\n",
        "      self.heap[index], self.heap[smallest] = self.heap[smallest], self.heap[index]\n",
        "      self._heapifyDown(smallest)\n",
        "\n",
        "\n",
        "\n",
        "min_heap = MinHeap()\n",
        "min_heap.insert(10)\n",
        "min_heap.insert(5)\n",
        "min_heap.insert(20)\n",
        "min_heap.insert(3)\n",
        "\n",
        "print(\"Heap before deletion =\", min_heap.heap)\n",
        "print(\"Min element =\", min_heap.deleteMin())\n",
        "print(\"Heap after deletion =\", min_heap.heap)"
      ],
      "metadata": {
        "colab": {
          "base_uri": "https://localhost:8080/"
        },
        "id": "-yG_I4WvcxMK",
        "outputId": "bbd53b6f-5f79-41e9-9aca-1e9ffe08dfad"
      },
      "execution_count": 21,
      "outputs": [
        {
          "output_type": "stream",
          "name": "stdout",
          "text": [
            "Heap before deletion = [3, 5, 20, 10]\n",
            "Min element = 3\n",
            "Heap after deletion = [5, 10, 20]\n"
          ]
        }
      ]
    },
    {
      "cell_type": "markdown",
      "source": [
        "## 5. **Implement Heap Sort to sort an array.**\n",
        "\n",
        "Write a program that:-\n",
        "\n",
        "- Builds a heap from the input array.\n",
        "\n",
        "- Extracts elements from the heap to produce a sorted array."
      ],
      "metadata": {
        "id": "GKXEJM21Suhq"
      }
    },
    {
      "cell_type": "code",
      "source": [
        "def heapify(arr, n, i):\n",
        "  p = i\n",
        "  l = 2 * i + 1\n",
        "  r = 2 * i + 2\n",
        "\n",
        "  if l < n and arr[l] > arr[p]:\n",
        "    p = l\n",
        "\n",
        "  if r < n and arr[r] > arr[p]:\n",
        "    p = r\n",
        "\n",
        "  if p != i:\n",
        "    arr[i], arr[p] = arr[p], arr[i]\n",
        "    heapify(arr, n, p)\n",
        "\n",
        "\n",
        "def heapSort(arr):\n",
        "  n = len(arr)\n",
        "\n",
        "  for i in range(n // 2 - 1, -1, -1):\n",
        "    heapify(arr, n, i)\n",
        "\n",
        "  for i in range(n - 1, 0, -1):\n",
        "    arr[i], arr[0] = arr[0], arr[i]\n",
        "    heapify(arr, i, 0)\n",
        "\n",
        "\n",
        "arr = [12, 11, 13, 5, 6, 7]\n",
        "print(\"Before sorting: \", arr)\n",
        "heapSort(arr)\n",
        "print(\"After sorting: \", arr)"
      ],
      "metadata": {
        "colab": {
          "base_uri": "https://localhost:8080/"
        },
        "id": "mXf3VfF4XTC5",
        "outputId": "62d197c7-cd02-44aa-ccb5-138650f927c9"
      },
      "execution_count": 22,
      "outputs": [
        {
          "output_type": "stream",
          "name": "stdout",
          "text": [
            "Before sorting:  [12, 11, 13, 5, 6, 7]\n",
            "After sorting:  [5, 6, 7, 11, 12, 13]\n"
          ]
        }
      ]
    },
    {
      "cell_type": "markdown",
      "source": [
        "## **6. Implement a hash table in Python that supports four different collision resolution techniques: Separate Chaining, Linear Probing, Quadratic Probing, and Double Hashing. The program should allow the user to select the collision resolution technique and perform basic operations (insert, search, and display).**"
      ],
      "metadata": {
        "id": "QXgNLm72S_CV"
      }
    },
    {
      "cell_type": "code",
      "source": [
        "def linearProbe(idx, i, size):\n",
        "  return (idx + i) % size\n",
        "\n",
        "\n",
        "def quadraticProbe(idx, i, size):\n",
        "  return (idx + i ** 2) % size\n",
        "\n",
        "\n",
        "def doubleHashingProbe(idx, i, size, key):\n",
        "  return (idx + i * (7 - (key % 7))) % size\n",
        "\n",
        "\n",
        "class HashTable:\n",
        "  def __init__(self, size=10, collisionResolution=\"SeparateChaining\"):\n",
        "    self.size = size\n",
        "    self.table = [[] for _ in range(\n",
        "        size)] if collisionResolution == \"SeparateChaining\" else [None] * size\n",
        "    self.insertMethod = getattr(self, f\"insert{collisionResolution}\")\n",
        "    self.searchMethod = getattr(self, f\"search{collisionResolution}\")\n",
        "\n",
        "  def hashFunction(self, key):\n",
        "    return key % self.size\n",
        "\n",
        "  def insert(self, key, value):\n",
        "    self.insertMethod(key, value)\n",
        "\n",
        "  def search(self, key):\n",
        "    return self.searchMethod(key)\n",
        "\n",
        "  def insertSeparateChaining(self, key, value):\n",
        "    index = self.hashFunction(key)\n",
        "    for i, (k, v) in enumerate(self.table[index]):\n",
        "      if k == key:\n",
        "        self.table[index][i] = (key, value)\n",
        "        return\n",
        "    self.table[index].append((key, value))\n",
        "\n",
        "  def searchSeparateChaining(self, key):\n",
        "    index = self.hashFunction(key)\n",
        "    for k, v in self.table[index]:\n",
        "      if k == key:\n",
        "        return v\n",
        "    return None\n",
        "\n",
        "  def insertWithProbing(self, key, value, probeFunc):\n",
        "    index = originalIndex = self.hashFunction(key)\n",
        "    for i in range(self.size):\n",
        "      if self.table[index] is None or self.table[index][0] == key:\n",
        "        self.table[index] = (key, value)\n",
        "        return\n",
        "      index = probeFunc(originalIndex, i, self.size, key)\n",
        "    print(\"Hash table is full\")\n",
        "\n",
        "  def searchWithProbing(self, key, probeFunc):\n",
        "    index = originalIndex = self.hashFunction(key)\n",
        "    for i in range(self.size):\n",
        "      if self.table[index] is None:\n",
        "        return None\n",
        "      if self.table[index][0] == key:\n",
        "        return self.table[index][1]\n",
        "      index = probeFunc(originalIndex, i, self.size, key)\n",
        "    return None\n",
        "\n",
        "  def insertLinearProbing(self, key, value):\n",
        "    self.insertWithProbing(key, value, linearProbe)\n",
        "\n",
        "  def searchLinearProbing(self, key):\n",
        "    return self.searchWithProbing(key, linearProbe)\n",
        "\n",
        "  def insertQuadraticProbing(self, key, value):\n",
        "    self.insertWithProbing(key, value, quadraticProbe)\n",
        "\n",
        "  def searchQuadraticProbing(self, key):\n",
        "    return self.searchWithProbing(key, quadraticProbe)\n",
        "\n",
        "  def insertDoubleHashing(self, key, value):\n",
        "    self.insertWithProbing(key, value, doubleHashingProbe)\n",
        "\n",
        "  def searchDoubleHashing(self, key):\n",
        "    return self.searchWithProbing(key, doubleHashingProbe)\n",
        "\n",
        "  def display(self):\n",
        "    print(\"Hash Table:\")\n",
        "    for i, item in enumerate(self.table):\n",
        "      print(f\"Index {i}: {item}\")\n",
        "    print()\n",
        "\n",
        "\n",
        "hashTable = HashTable(size=10, collisionResolution=\"DoubleHashing\")\n",
        "hashTable.insert(5, \"apple\")\n",
        "hashTable.insert(15, \"banana\")\n",
        "hashTable.insert(25, \"cherry\")\n",
        "\n",
        "print(\"Displaying hash table:\")\n",
        "hashTable.display()\n",
        "\n",
        "print(\"Searching for key 15:\", hashTable.search(15))\n",
        "print(\"Searching for key 10:\", hashTable.search(10))\n"
      ],
      "metadata": {
        "colab": {
          "base_uri": "https://localhost:8080/"
        },
        "id": "62Qyr3iui12H",
        "outputId": "41bb1bb5-2220-441a-ba6d-c00e78be5392"
      },
      "execution_count": 23,
      "outputs": [
        {
          "output_type": "stream",
          "name": "stdout",
          "text": [
            "Displaying hash table:\n",
            "Hash Table:\n",
            "Index 0: None\n",
            "Index 1: (15, 'banana')\n",
            "Index 2: None\n",
            "Index 3: None\n",
            "Index 4: None\n",
            "Index 5: (5, 'apple')\n",
            "Index 6: None\n",
            "Index 7: None\n",
            "Index 8: (25, 'cherry')\n",
            "Index 9: None\n",
            "\n",
            "Searching for key 15: banana\n",
            "Searching for key 10: None\n"
          ]
        }
      ]
    },
    {
      "cell_type": "code",
      "source": [],
      "metadata": {
        "id": "I5gk1l3tjT2b"
      },
      "execution_count": 23,
      "outputs": []
    }
  ]
}